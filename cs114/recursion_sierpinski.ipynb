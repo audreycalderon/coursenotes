{
 "cells": [
  {
   "cell_type": "markdown",
   "id": "d735d86d-0ba5-4880-b665-afcd8edee0e0",
   "metadata": {},
   "source": [
    "# A Recursive Fractal: The Sierpinski Triangle\n",
    "\n",
    "Recursion is anything that refers to itself. Examples include:\n",
    "- This sentence is recursive, since it talks about itself\n",
    "- Many fractals, including the Sierpinski Triangle, are constructed out of smaller \"copies\" of themselves"
   ]
  },
  {
   "cell_type": "code",
   "execution_count": 1,
   "id": "cd9f7fbf-6fca-4314-b66b-2cfd2dd75097",
   "metadata": {},
   "outputs": [],
   "source": [
    "# =============================================================================\n",
    "# IMPORT LIBRARIES\n",
    "# =============================================================================\n",
    "import ipycanvas"
   ]
  },
  {
   "cell_type": "code",
   "execution_count": 2,
   "id": "7edbc7ea",
   "metadata": {},
   "outputs": [
    {
     "data": {
      "application/vnd.jupyter.widget-view+json": {
       "model_id": "4843d625d9e24a068fd475538b0fa550",
       "version_major": 2,
       "version_minor": 0
      },
      "text/plain": [
       "Canvas(height=240, width=360)"
      ]
     },
     "metadata": {},
     "output_type": "display_data"
    }
   ],
   "source": [
    "def sierpinski(canvas: ipycanvas.Canvas,\n",
    "               x0: float, y0: float, \n",
    "               x1: float, y1: float, \n",
    "               x2: float, y2: float, depth: int) -> None:    \n",
    "    canvas.stroke_line(x0, y0, x1, y1)\n",
    "    canvas.stroke_line(x1, y1, x2, y2)\n",
    "    canvas.stroke_line(x2, y2, x0, y0)\n",
    "\n",
    "    if depth > 0:        \n",
    "        x01 = (x0 + x1) / 2\n",
    "        y01 = (y0 + y1) / 2\n",
    "\n",
    "        x12 = (x1 + x2) / 2\n",
    "        y12 = (y1 + y2) / 2\n",
    "        \n",
    "        x20 = (x2 + x0) / 2\n",
    "        y20 = (y2 + y0) / 2\n",
    "        \n",
    "        sierpinski(canvas,\n",
    "                   x0, y0, \n",
    "                   x01, y01,\n",
    "                   x20, y20,\n",
    "                   depth-1)\n",
    "        sierpinski(canvas,\n",
    "                   x01, y01,\n",
    "                   x1, y1,\n",
    "                   x12, y12,\n",
    "                   depth-1)\n",
    "        sierpinski(canvas,\n",
    "                   x20, y20,\n",
    "                   x12, y12,\n",
    "                   x2, y2,\n",
    "                   depth-1)\n",
    "        \n",
    "canvas = ipycanvas.Canvas(width=360, height=240)\n",
    "\n",
    "sierpinski(canvas,30,200,\n",
    "           240,190,\n",
    "           100,10,\n",
    "           5)\n",
    "display(canvas)"
   ]
  },
  {
   "cell_type": "markdown",
   "id": "8fb37465-b5f1-4821-b0a1-17e787e9ebad",
   "metadata": {},
   "source": [
    "## Creating the Triangle Step-by-Step"
   ]
  },
  {
   "cell_type": "markdown",
   "id": "07a801c2-e28f-47ff-8fdc-833d66333e8c",
   "metadata": {},
   "source": [
    "### 1. Create a Single Triangle \n",
    "- The function takes six `floats`, which represent 3 (x,y) coordinates.  \n",
    "- This version simply draws lines between the three points, and ignores the parameter `depth`.\n",
    "- Returns a single triangle."
   ]
  },
  {
   "cell_type": "code",
   "execution_count": 8,
   "id": "58604422-0573-4b15-8019-0f8411981968",
   "metadata": {},
   "outputs": [
    {
     "data": {
      "application/vnd.jupyter.widget-view+json": {
       "model_id": "ec542be6dcc8443da63fa09942dbeec5",
       "version_major": 2,
       "version_minor": 0
      },
      "text/plain": [
       "Canvas(height=240, width=360)"
      ]
     },
     "metadata": {},
     "output_type": "display_data"
    }
   ],
   "source": [
    "def sierpinski(canvas: ipycanvas.Canvas, \n",
    "               x0: float, y0: float, \n",
    "               x1: float, y1: float, \n",
    "               x2: float, y2: float, depth: int) -> None:    \n",
    "\n",
    "    canvas.stroke_line(x0, y0, x1, y1)\n",
    "    canvas.stroke_line(x1, y1, x2, y2)\n",
    "    canvas.stroke_line(x2, y2, x0, y0)    \n",
    "        \n",
    "canvas = ipycanvas.Canvas(width=360, height=240)\n",
    "\n",
    "sierpinski(canvas,\n",
    "           30,200,\n",
    "           240,190,\n",
    "           100.,10.,\n",
    "           5)\n",
    "display(canvas)"
   ]
  },
  {
   "cell_type": "markdown",
   "id": "227aea1e-df33-409d-b517-77448c881dc8",
   "metadata": {},
   "source": [
    "### 2. Create Midpoints and Label Points When Depth > 0\n",
    "\n",
    "Create six new variables, which correspond to three new midpoints.\n",
    "These lines are within an `if` statement, so they are only called when `depth > 0`.\n",
    "\n",
    "* `(mx01, my01)` is the midpoint between `(x0, y0)` and `(x1, y1)`;\n",
    "* `(mx12, my12)` is the midpoint between `(x1, y1)` and `(x2, y2)`;\n",
    "* `(mx20, my20)` is the midpoint between `(x2, y2)` and `(x0, y0)`."
   ]
  },
  {
   "cell_type": "code",
   "execution_count": 13,
   "id": "59643a27-d680-4fd2-abbf-afdfa8db64a1",
   "metadata": {},
   "outputs": [
    {
     "data": {
      "application/vnd.jupyter.widget-view+json": {
       "model_id": "11899113f5e6402296afad160ccd6e85",
       "version_major": 2,
       "version_minor": 0
      },
      "text/plain": [
       "Canvas(height=240, width=360)"
      ]
     },
     "metadata": {},
     "output_type": "display_data"
    }
   ],
   "source": [
    "def sierpinski(canvas: ipycanvas.Canvas,\n",
    "               x0: float, y0: float, \n",
    "               x1: float, y1: float, \n",
    "               x2: float, y2: float, depth: int) -> None:    \n",
    "\n",
    "    canvas.stroke_line(x0, y0, x1, y1)\n",
    "    canvas.stroke_line(x1, y1, x2, y2)\n",
    "    canvas.stroke_line(x2, y2, x0, y0)    \n",
    "    if depth > 0:        \n",
    "        ## Here we create 6 new variables, representing 3 points.\n",
    "        x01 = (x0 + x1) / 2\n",
    "        y01 = (y0 + y1) / 2\n",
    "\n",
    "        x12 = (x1 + x2) / 2\n",
    "        y12 = (y1 + y2) / 2\n",
    "        \n",
    "        x20 = (x2 + x0) / 2\n",
    "        y20 = (y2 + y0) / 2\n",
    "        \n",
    "        ## A little code to make the text easier to see.\n",
    "        canvas.fill_style = 'red'\n",
    "        canvas.text_align = 'center'\n",
    "        canvas.font = '14px monospace'\n",
    "        \n",
    "        ## Label the main points.\n",
    "        canvas.fill_text(\"(x0,y0)\", x0, y0)\n",
    "        canvas.fill_text(\"(x1,y1)\", x1, y1)\n",
    "        canvas.fill_text(\"(x2,y2)\", x2, y2)\n",
    "        \n",
    "        ## Label the midpoints.\n",
    "        canvas.fill_text(\"(x01,y01)\", x01, y01)\n",
    "        canvas.fill_text(\"(x12,y12)\", x12, y12)\n",
    "        canvas.fill_text(\"(x20,y20)\", x20, y20)\n",
    "        \n",
    "        \n",
    "canvas = ipycanvas.Canvas(width=360, height=240)\n",
    "\n",
    "sierpinski(canvas,\n",
    "           30,200,\n",
    "           240,190,\n",
    "           100.,10.,\n",
    "           5)\n",
    "display(canvas)"
   ]
  },
  {
   "cell_type": "markdown",
   "id": "b101c48e-8636-4e3e-8230-edd7b2327d1e",
   "metadata": {},
   "source": [
    "### 3. Begin Recursive Call and Create Simple Fractal (Create First Triangle)\n",
    "In the `sierpinski` function, the `sierpinski` function must be called, with these three new points.  Since the function is calling itself, this is a *recursive call*.\n",
    "* Replace `depth` with `depth-1` in the recursive call.  "
   ]
  },
  {
   "cell_type": "code",
   "execution_count": 3,
   "id": "1b337fc4-94e6-42a7-9d51-3bf1f150d7ba",
   "metadata": {},
   "outputs": [
    {
     "data": {
      "application/vnd.jupyter.widget-view+json": {
       "model_id": "11b8ab619ad640d5b5a238fd7ac38b01",
       "version_major": 2,
       "version_minor": 0
      },
      "text/plain": [
       "Canvas(height=240, width=360)"
      ]
     },
     "metadata": {},
     "output_type": "display_data"
    }
   ],
   "source": [
    "import ipycanvas\n",
    "\n",
    "def sierpinski(canvas: ipycanvas.Canvas,\n",
    "               x0: float, y0: float, \n",
    "               x1: float, y1: float, \n",
    "               x2: float, y2: float, depth: int) -> None:    \n",
    "    canvas.stroke_line(x0, y0, x1, y1)\n",
    "    canvas.stroke_line(x1, y1, x2, y2)\n",
    "    canvas.stroke_line(x2, y2, x0, y0)\n",
    "\n",
    "    if depth > 0:        \n",
    "        x01 = (x0 + x1) / 2\n",
    "        y01 = (y0 + y1) / 2\n",
    "\n",
    "        x12 = (x1 + x2) / 2\n",
    "        y12 = (y1 + y2) / 2\n",
    "        \n",
    "        x20 = (x2 + x0) / 2\n",
    "        y20 = (y2 + y0) / 2\n",
    "\n",
    "        ## Make one recursive call to sierpinski,\n",
    "        ## to draw a \"smaller copy\" in the bottom left corner.\n",
    "        sierpinski(canvas,\n",
    "                   x0, y0, \n",
    "                   x01, y01,\n",
    "                   x20, y20,\n",
    "                   depth-1)\n",
    "        \n",
    "canvas = ipycanvas.Canvas(width=360, height=240)\n",
    "\n",
    "sierpinski(canvas,\n",
    "           30,200,\n",
    "           240,190,\n",
    "           100,10,\n",
    "           5)       #  <-- Try different small integers here.\n",
    "display(canvas)"
   ]
  },
  {
   "cell_type": "markdown",
   "id": "cbac9901-fcb1-4b22-988f-a7a3b9bfebdf",
   "metadata": {},
   "source": [
    "This returns a simple fractal.  It's not a Sierpinski triangle, but the whole triangle has a smaller triangle in the bottom left corner, and that triangle has a still smaller triangle, and so on.\n",
    "\n",
    "---\n",
    "\n",
    "Notice that each time a recursive call is called, the `depth` becomes smaller by 1.  So by starting with `depth` as `4`, it draws a triangle, then makes a recursive call with `3`; this draws another triangle, then makes a recursive call with `2`; another triangle, and another recursive call with `1`; another triangle, and another recursive call with `0`; a final triangle, but `depth > 0` is now `False`, so we make no further recursive calls.\n",
    "\n",
    "Recursive calls are only made when `depth > 0`.  \n",
    "So we always have one triangle... and `depth` more triangles from the recursive calls.\n",
    "\n",
    "---\n",
    "### 4. Create Second Triangle \n",
    "* Add another triangle in the bottom right corner, by making a second recursive call.  This will have corners at `(x01,y01)`, `(x1,y1)`, and `(x12,y12)`, as diagrammed above."
   ]
  },
  {
   "cell_type": "code",
   "execution_count": 5,
   "id": "b9eb8013-8c38-4c92-9d67-1069622e2e03",
   "metadata": {},
   "outputs": [
    {
     "data": {
      "application/vnd.jupyter.widget-view+json": {
       "model_id": "23edf43c39e345cd9f97fafadf741586",
       "version_major": 2,
       "version_minor": 0
      },
      "text/plain": [
       "Canvas(height=240, width=360)"
      ]
     },
     "metadata": {},
     "output_type": "display_data"
    }
   ],
   "source": [
    "def sierpinski(canvas: ipycanvas.Canvas,\n",
    "               x0: float, y0: float, \n",
    "               x1: float, y1: float, \n",
    "               x2: float, y2: float, depth: int) -> None:    \n",
    "    canvas.stroke_line(x0, y0, x1, y1)\n",
    "    canvas.stroke_line(x1, y1, x2, y2)\n",
    "    canvas.stroke_line(x2, y2, x0, y0)\n",
    "\n",
    "    if depth > 0:        \n",
    "        x01 = (x0 + x1) / 2\n",
    "        y01 = (y0 + y1) / 2\n",
    "\n",
    "        x12 = (x1 + x2) / 2\n",
    "        y12 = (y1 + y2) / 2\n",
    "        \n",
    "        x20 = (x2 + x0) / 2\n",
    "        y20 = (y2 + y0) / 2\n",
    "        \n",
    "        ## Bottom-left recursive call\n",
    "        sierpinski(canvas,\n",
    "                   x0, y0, \n",
    "                   x01, y01,\n",
    "                   x20, y20,\n",
    "                   depth-1)\n",
    "        \n",
    "        ## Bottom-right recursive call\n",
    "        sierpinski(canvas,\n",
    "                   x01, y01,\n",
    "                   x1, y1,\n",
    "                   x12, y12,\n",
    "                   depth-1)\n",
    "\n",
    "        \n",
    "canvas = ipycanvas.Canvas(width=360, height=240)\n",
    "\n",
    "sierpinski(canvas,\n",
    "           30,200,\n",
    "           240,190,\n",
    "           100,10,\n",
    "           5)\n",
    "display(canvas)"
   ]
  },
  {
   "cell_type": "markdown",
   "id": "d53b3980-787d-49b5-b465-d5a04b2e8e5e",
   "metadata": {},
   "source": [
    "### 5. Create Third Triangle\n",
    "* Add another triangle in the top corner, by making a third recursive call."
   ]
  },
  {
   "cell_type": "code",
   "execution_count": 4,
   "id": "507f000d-f456-41a8-99bf-df7df6274536",
   "metadata": {},
   "outputs": [
    {
     "data": {
      "application/vnd.jupyter.widget-view+json": {
       "model_id": "110ec1ddcfb048e182ca650dee302103",
       "version_major": 2,
       "version_minor": 0
      },
      "text/plain": [
       "Canvas(height=240, width=360)"
      ]
     },
     "metadata": {},
     "output_type": "display_data"
    }
   ],
   "source": [
    "def sierpinski(canvas: ipycanvas.Canvas,\n",
    "               x0: float, y0: float, \n",
    "               x1: float, y1: float, \n",
    "               x2: float, y2: float, depth: int) -> None:    \n",
    "    canvas.stroke_line(x0, y0, x1, y1)\n",
    "    canvas.stroke_line(x1, y1, x2, y2)\n",
    "    canvas.stroke_line(x2, y2, x0, y0)\n",
    "\n",
    "    if depth > 0:        \n",
    "        x01 = (x0 + x1) / 2\n",
    "        y01 = (y0 + y1) / 2\n",
    "\n",
    "        x12 = (x1 + x2) / 2\n",
    "        y12 = (y1 + y2) / 2\n",
    "        \n",
    "        x20 = (x2 + x0) / 2\n",
    "        y20 = (y2 + y0) / 2\n",
    "        \n",
    "        sierpinski(canvas,\n",
    "                   x0, y0, \n",
    "                   x01, y01,\n",
    "                   x20, y20,\n",
    "                   depth-1)\n",
    "        sierpinski(canvas,\n",
    "                   x01, y01,\n",
    "                   x1, y1,\n",
    "                   x12, y12,\n",
    "                   depth-1)\n",
    "        sierpinski(canvas,\n",
    "                   x20, y20,\n",
    "                   x12, y12,\n",
    "                   x2, y2,\n",
    "                   depth-1)\n",
    "        \n",
    "canvas = ipycanvas.Canvas(width=360, height=240)\n",
    "\n",
    "sierpinski(canvas,\n",
    "           30,200,\n",
    "           240,190,\n",
    "           100,10,\n",
    "           5)\n",
    "display(canvas)"
   ]
  },
  {
   "cell_type": "markdown",
   "id": "c254402c-21ba-4de4-87ba-ddcf016ddb0c",
   "metadata": {},
   "source": [
    "The generation of a Sierpinski triangle is inherently recursive. To construct a complete triangle at a given size:\n",
    "\n",
    "* `Base Case`: If depth == 0, draw a single triangle and terminate recursion.\n",
    "\n",
    "* `Recursive Case`: Otherwise, recursively draw three smaller Sierpinski triangles—each representing a subregion of the current triangle.\n",
    "\n",
    "Each recursive step reduces the depth parameter by 1, effectively controlling the granularity of the fractal. This ensures that the recursion terminates and prevents infinite subdivision."
   ]
  },
  {
   "cell_type": "code",
   "execution_count": null,
   "id": "36ebfced-3d10-4ee7-be1c-01d39cd2d79c",
   "metadata": {},
   "outputs": [],
   "source": []
  }
 ],
 "metadata": {
  "kernelspec": {
   "display_name": "Python 3",
   "language": "python",
   "name": "python3"
  },
  "language_info": {
   "codemirror_mode": {
    "name": "ipython",
    "version": 3
   },
   "file_extension": ".py",
   "mimetype": "text/x-python",
   "name": "python",
   "nbconvert_exporter": "python",
   "pygments_lexer": "ipython3",
   "version": "3.10.4"
  }
 },
 "nbformat": 4,
 "nbformat_minor": 5
}
