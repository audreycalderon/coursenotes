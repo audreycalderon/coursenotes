{
 "cells": [
  {
   "cell_type": "code",
   "execution_count": 2,
   "id": "2c871f9c-6a0b-452c-be21-c76463aa48af",
   "metadata": {},
   "outputs": [],
   "source": [
    "#####################################\n",
    "# ESTIMATING PI BASED ON DICE ROLLS #\n",
    "# 2025-05-06: intro lecture notes\n",
    "#####################################\n",
    "\n",
    "## determining an area, multidimensional integration\n",
    "## probability density\n",
    "## normalization\n",
    "## continuous probability distribution\n",
    "## dice rolls are described by discrete probability distribution\n",
    "## Monte Carlo Simulation / Integration\n",
    "\n",
    "## a six sided dye would give you a terrible estimate of pi\n",
    "\n",
    "import numpy as np\n",
    "import random"
   ]
  },
  {
   "cell_type": "code",
   "execution_count": 41,
   "id": "2795cf94-2008-4d5e-963e-8da603faca00",
   "metadata": {},
   "outputs": [
    {
     "name": "stdout",
     "output_type": "stream",
     "text": [
      "pi_estimate=3.0\n"
     ]
    }
   ],
   "source": [
    "# Estimate π using the ratio of points inside the quarter-circle to total points\n",
    "\n",
    "## 1. Get Dice Rolls \n",
    "## manual dice rolls (each value between 1 and 20, simulating a d20 die)\n",
    "dice_rolls = [2,19,8,5,10,4,11,11,15,9,1,5,17,6,16,19,13,3,4,5,4,5,12,8,2,10,18,19,16,6,11,8,18,5,4,13,4] ## -> manual rolls\n",
    "\n",
    "## OR: Generate random dice rolls using a uniform distribution (simulate 64 d20 rolls)\n",
    "dice_rolls = [1+int(20*random.random()) for _ in range(64)] ## -> generated rolls\n",
    "\n",
    "## 2. Convert Dice Rolls Into x and y Coordinates (subtract 0.5 to center bins)\n",
    "ld = len(dice_rolls) ## -> number of dice rolls\n",
    "\n",
    "xs = -0.5 + np.array(dice_rolls[0:ld-1:2])\n",
    "ys = -0.5 + np.array(dice_rolls[1:ld:2])\n",
    "\n",
    "R = 20 ## -> radius of circle\n",
    "\n",
    "## 3. Initialize Counters for Monte Carlo Simulation\n",
    "n_success = 0 ## -> numbre of points inside the quarter-circle\n",
    "n_trials = len(xs) ## -> total number of (x,y) coordinate pairs\n",
    "\n",
    "## 4. Count How Many Points Fall Within the Quarter-Circle of Radius R\n",
    "for x, y in zip(xs,ys):\n",
    "    r = np.sqrt(x**2 + y**2) ## -> distance form origin\n",
    "    if r <= R: ## -> if point is in the circle\n",
    "        n_success += 1\n",
    "    # print(r)\n",
    "\n",
    "## 5. Estimate π\n",
    "pi_estimate = 4 * n_success/n_trials\n",
    "print(f\"{pi_estimate=}\")"
   ]
  },
  {
   "cell_type": "code",
   "execution_count": 30,
   "id": "9f74b4c1-45cf-4aca-a04b-32d8afab337b",
   "metadata": {},
   "outputs": [
    {
     "name": "stdout",
     "output_type": "stream",
     "text": [
      "Help on built-in function random:\n",
      "\n",
      "random() method of random.Random instance\n",
      "    random() -> x in the interval [0, 1).\n",
      "\n"
     ]
    }
   ],
   "source": [
    "## this is a simple example of monte carlo integration (technique)\n",
    "help(random.random)"
   ]
  },
  {
   "cell_type": "code",
   "execution_count": 32,
   "id": "26708ae7-9264-4e19-96e4-5e94f9fa3815",
   "metadata": {},
   "outputs": [
    {
     "name": "stdout",
     "output_type": "stream",
     "text": [
      "pi_estimate=3.144808\n"
     ]
    }
   ],
   "source": [
    "# Estimating π Using Computer Generated Random Values\n",
    "\n",
    "n_trials = int(1e6) ## -> do a million trials\n",
    "n_success = 0\n",
    "\n",
    "for _ in range (n_trials):\n",
    "    x = random.random()\n",
    "    y = random.random()\n",
    "    r = np.sqrt(x**2 + y**2)\n",
    "    if r < 1:\n",
    "        n_success += 1\n",
    "        \n",
    "pi_estimate = 4 * n_success/n_trials\n",
    "print(f\"{pi_estimate=}\")"
   ]
  },
  {
   "cell_type": "code",
   "execution_count": 3,
   "id": "3744487b-21b8-4be5-9344-fe09da863c15",
   "metadata": {},
   "outputs": [
    {
     "name": "stdout",
     "output_type": "stream",
     "text": [
      "pi_est=3.159945\n"
     ]
    }
   ],
   "source": [
    "# Estimating π Using 20-Sided Die Simulation (100,000 pairs, or 200,000 rolls total)\n",
    "\n",
    "dice_rolls = [1+int(20*random.random()) for _ in range(100000*64)]\n",
    "ld = len(dice_rolls)\n",
    "\n",
    "xs = -0.5 + np.array(dice_rolls[0:ld-1:2]) ## -> every other roll starting at index 0\n",
    "ys = -0.5 + np.array(dice_rolls[1:ld:2]) ## -> every other roll starting at index 1\n",
    "\n",
    "n_success = 0\n",
    "n_trials = len(xs)\n",
    "\n",
    "R = 20\n",
    "\n",
    "for x, y in zip(xs,ys):\n",
    "    r = np.sqrt(x**2 + y**2)\n",
    "    if r <= R:\n",
    "        n_success += 1 \n",
    "\n",
    "pi_est = 4.0 * n_success / n_trials\n",
    "print(f\"{pi_est=}\")"
   ]
  },
  {
   "cell_type": "code",
   "execution_count": null,
   "id": "adc46115-ec2a-4303-9ec5-aaccb72ec327",
   "metadata": {},
   "outputs": [],
   "source": []
  }
 ],
 "metadata": {
  "kernelspec": {
   "display_name": "Python 3",
   "language": "python",
   "name": "python3"
  },
  "language_info": {
   "codemirror_mode": {
    "name": "ipython",
    "version": 3
   },
   "file_extension": ".py",
   "mimetype": "text/x-python",
   "name": "python",
   "nbconvert_exporter": "python",
   "pygments_lexer": "ipython3",
   "version": "3.10.4"
  }
 },
 "nbformat": 4,
 "nbformat_minor": 5
}
